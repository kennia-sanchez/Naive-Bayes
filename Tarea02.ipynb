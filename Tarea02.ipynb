{
 "cells": [
  {
   "cell_type": "code",
   "execution_count": 23,
   "id": "622e1f94-7dd8-4e2c-85f5-3574f5d9cb34",
   "metadata": {},
   "outputs": [],
   "source": [
    "import pandas as pd\n",
    "import numpy as np\n",
    "from scipy.stats import multivariate_normal"
   ]
  },
  {
   "cell_type": "code",
   "execution_count": 25,
   "id": "6536cdae-502b-4c2c-a5eb-fe8173e965ed",
   "metadata": {},
   "outputs": [],
   "source": [
    "data = pd.read_csv('naive_bayes_two_classes.csv')"
   ]
  },
  {
   "cell_type": "code",
   "execution_count": 26,
   "id": "497c04cb-39cd-4d25-a6c4-76109e1e0c36",
   "metadata": {},
   "outputs": [
    {
     "name": "stdout",
     "output_type": "stream",
     "text": [
      "\n",
      "Número de clases en los datos: 2\n"
     ]
    }
   ],
   "source": [
    "num_classes = data['class'].nunique()\n",
    "print(\"\\nNúmero de clases en los datos:\", num_classes)"
   ]
  },
  {
   "cell_type": "code",
   "execution_count": 27,
   "id": "f72a44dd-59e8-4f0b-ab30-06727a1e1e1e",
   "metadata": {},
   "outputs": [],
   "source": [
    "class_stats = {}\n",
    "for class_label, class_data in data.groupby('class'):\n",
    "    class_stats[class_label] = {\n",
    "        'media': class_data[['x1', 'x2']].mean(),\n",
    "        'covarianza': class_data[['x1', 'x2']].cov(),\n",
    "        'probabilidad_apriori': len(class_data) / len(data)\n",
    "    }"
   ]
  },
  {
   "cell_type": "code",
   "execution_count": 28,
   "id": "c9278afe-2bc9-479f-a629-d098262c6e56",
   "metadata": {},
   "outputs": [
    {
     "name": "stdout",
     "output_type": "stream",
     "text": [
      "\n",
      "Clase: 1\n",
      "Media:\n",
      "x1    1.963530\n",
      "x2    1.993345\n",
      "dtype: float64\n",
      "\n",
      "Matriz de Covarianza:\n",
      "          x1        x2\n",
      "x1  1.035336 -0.006257\n",
      "x2 -0.006257  0.977647\n",
      "\n",
      "Probabilidad a priori: 0.3333333333333333\n",
      "\n",
      "Clase: 2\n",
      "Media:\n",
      "x1    9.965347\n",
      "x2    9.985706\n",
      "dtype: float64\n",
      "\n",
      "Matriz de Covarianza:\n",
      "          x1        x2\n",
      "x1  1.057285  0.006016\n",
      "x2  0.006016  0.976375\n",
      "\n",
      "Probabilidad a priori: 0.6666666666666666\n"
     ]
    }
   ],
   "source": [
    "for class_label, stats in class_stats.items():\n",
    "    print(\"\\nClase:\", class_label)\n",
    "    print(\"Media:\")\n",
    "    print(stats['media'])\n",
    "    print(\"\\nMatriz de Covarianza:\")\n",
    "    print(stats['covarianza'])\n",
    "    print(\"\\nProbabilidad a priori:\", stats['probabilidad_apriori'])"
   ]
  },
  {
   "cell_type": "code",
   "execution_count": 29,
   "id": "feb89bfb-67fb-43a6-a4a8-3716de32dce3",
   "metadata": {},
   "outputs": [],
   "source": [
    "pdf_functions = {}\n",
    "for class_label, stats in class_stats.items():\n",
    "    mean = stats['media'].values\n",
    "    cov = stats['covarianza'].values\n",
    "    pdf_functions[class_label] = multivariate_normal(mean=mean, cov=cov).pdf"
   ]
  },
  {
   "cell_type": "code",
   "execution_count": 30,
   "id": "9e30340c-7c0b-4b11-994a-a2ab3eec38ef",
   "metadata": {},
   "outputs": [],
   "source": [
    "test_data = pd.read_csv('naive_bayes_two_classes_prediction.csv')"
   ]
  },
  {
   "cell_type": "code",
   "execution_count": 32,
   "id": "33a2f762-33eb-4211-a3be-c92c14ed2efc",
   "metadata": {},
   "outputs": [],
   "source": [
    "predictions = []\n",
    "for index, row in test_data.iterrows():\n",
    "    class_probabilities = {}\n",
    "    for class_label, pdf_function in pdf_functions.items():\n",
    "        class_probabilities[class_label] = pdf_function([row['x1'], row['x2']]) * class_stats[class_label]['probabilidad_apriori']\n",
    "    predicted_class = max(class_probabilities, key=class_probabilities.get)\n",
    "    predictions.append(predicted_class)"
   ]
  },
  {
   "cell_type": "code",
   "execution_count": 33,
   "id": "0bf9f669-7544-431c-97ef-c8fedab00202",
   "metadata": {},
   "outputs": [],
   "source": [
    "test_data['predicted_class'] = predictions"
   ]
  },
  {
   "cell_type": "code",
   "execution_count": 34,
   "id": "4647d14e-2512-494e-a552-7d0c46d48527",
   "metadata": {},
   "outputs": [],
   "source": [
    "test_data.to_csv('naive_bayes_predictions.csv', index=False)"
   ]
  },
  {
   "cell_type": "code",
   "execution_count": null,
   "id": "543d5d5e-0718-422a-b998-709c4f7139f2",
   "metadata": {},
   "outputs": [],
   "source": []
  }
 ],
 "metadata": {
  "kernelspec": {
   "display_name": "Python 3 (ipykernel)",
   "language": "python",
   "name": "python3"
  },
  "language_info": {
   "codemirror_mode": {
    "name": "ipython",
    "version": 3
   },
   "file_extension": ".py",
   "mimetype": "text/x-python",
   "name": "python",
   "nbconvert_exporter": "python",
   "pygments_lexer": "ipython3",
   "version": "3.12.2"
  }
 },
 "nbformat": 4,
 "nbformat_minor": 5
}
